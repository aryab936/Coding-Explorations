{
  "nbformat": 4,
  "nbformat_minor": 0,
  "metadata": {
    "colab": {
      "name": "Monte Carlo Simulation.ipynb",
      "provenance": [],
      "collapsed_sections": []
    },
    "kernelspec": {
      "name": "python3",
      "display_name": "Python 3"
    }
  },
  "cells": [
    {
      "cell_type": "markdown",
      "metadata": {
        "id": "LWadX31EKRLK"
      },
      "source": [
        "## Monte Carlo \n",
        "\n"
      ]
    },
    {
      "cell_type": "code",
      "metadata": {
        "colab": {
          "base_uri": "https://localhost:8080/",
          "height": 265
        },
        "id": "j6Yioig3KVfq",
        "outputId": "9aa464e3-12ec-43c8-9ba3-e1aa37987815"
      },
      "source": [
        "import numpy as np\n",
        "#The problem that interests me involves first drawing a value for a R.V., \"N\". Let us say the value we got is n.\n",
        "#Post getting this value, we toss a fair coin \"n\" times and we try to find out the distribution it follows.\n",
        "#From theory we know that for a Poisson with parameter lambda, the coin toss will be a poisson with parameter lambda/2.\n",
        "\n",
        "p=np.random.poisson(10,100000) #Choosing lambda to be 10 and number of samples for our experiment to be 100000.\n",
        "p=list(p)\n",
        "#Now that we have the values of n, let's do our coin tosses randomly for n times for a repetition of 100000 values of n.\n",
        "heads=[]\n",
        "for item in p:\n",
        "  x=np.random.binomial(item,0.5)\n",
        "  heads.append(x)\n",
        "heads=np.array(heads)\n",
        "import matplotlib.pyplot as plt\n",
        "count, bins, ignored = plt.hist(heads, 10, density=True)\n",
        "plt.show()"
      ],
      "execution_count": null,
      "outputs": [
        {
          "output_type": "display_data",
          "data": {
            "image/png": "[encoded data removed]",
            "text/plain": [
              "<Figure size 432x288 with 1 Axes>"
            ]
          },
          "metadata": {
            "needs_background": "light"
          }
        }
      ]
    },
    {
      "cell_type": "code",
      "metadata": {
        "colab": {
          "base_uri": "https://localhost:8080/",
          "height": 265
        },
        "id": "NGFRCS1pMIKf",
        "outputId": "7028c9df-a696-4ec6-efc5-8e9c4b4445ff"
      },
      "source": [
        "#Now let us compare this with the plotting of a poisson with lambda=5 and 100000 trials\n",
        "y=np.random.poisson(5,100000)\n",
        "count, bins, ignored = plt.hist(y, 10, density=True)\n",
        "plt.show()"
      ],
      "execution_count": null,
      "outputs": [
        {
          "output_type": "display_data",
          "data": {
            "image/png": "[encoded data removed]",
            "text/plain": [
              "<Figure size 432x288 with 1 Axes>"
            ]
          },
          "metadata": {
            "needs_background": "light"
          }
        }
      ]
    },
    {
      "cell_type": "markdown",
      "metadata": {
        "id": "5NOl-QsoWXpW"
      },
      "source": [
        "**Probability calculations**"
      ]
    },
    {
      "cell_type": "code",
      "metadata": {
        "colab": {
          "base_uri": "https://localhost:8080/"
        },
        "id": "UYogxMYLUYIu",
        "outputId": "aad297de-ead7-42f3-95b9-c04a499b4841"
      },
      "source": [
        "#Now let us calculate some probabilities.\n",
        "heads_list=list(heads)\n",
        "#The probability of 5 heads will be given using the poisson formula\n",
        "#This comes to be e^(-5)*5^(5)/5!=0.1754\n",
        "#From our simulation, we are getting:\n",
        "prob=heads_list.count(5)/len(heads_list)\n",
        "print(prob)\n",
        "\n"
      ],
      "execution_count": null,
      "outputs": [
        {
          "output_type": "stream",
          "name": "stdout",
          "text": [
            "0.17346\n"
          ]
        }
      ]
    },
    {
      "cell_type": "code",
      "metadata": {
        "colab": {
          "base_uri": "https://localhost:8080/"
        },
        "id": "AHaSgjkLWLAk",
        "outputId": "c2fd94e3-9578-4813-fc13-3d9d681b778d"
      },
      "source": [
        "#The probability of 3 heads will be given using the poisson formula\n",
        "#This comes to be e^(-5)*5^3/3!=0.14037\n",
        "#From our simulation, we are getting: \n",
        "prob=heads_list.count(3)/len(heads_list)\n",
        "print(prob)"
      ],
      "execution_count": null,
      "outputs": [
        {
          "output_type": "stream",
          "name": "stdout",
          "text": [
            "0.14268\n"
          ]
        }
      ]
    },
    {
      "cell_type": "code",
      "metadata": {
        "colab": {
          "base_uri": "https://localhost:8080/"
        },
        "id": "Sxw2LS0UW6Ij",
        "outputId": "2837fa0e-8100-4c23-d6a4-ca4dc3648235"
      },
      "source": [
        "#The probability of 8 heads will be given using the poisson formula\n",
        "#This comes to be e^(-5)*5^8/8!=0.06527\n",
        "#From our simulation, we are getting: \n",
        "prob=heads_list.count(8)/len(heads_list)\n",
        "print(prob)"
      ],
      "execution_count": null,
      "outputs": [
        {
          "output_type": "stream",
          "name": "stdout",
          "text": [
            "0.06509\n"
          ]
        }
      ]
    },
    {
      "cell_type": "code",
      "metadata": {
        "colab": {
          "base_uri": "https://localhost:8080/"
        },
        "id": "pX3PaMEPXPWT",
        "outputId": "38847e1a-351c-47e3-df1f-98d3e9abc48c"
      },
      "source": [
        "#The probability of 10 heads will be given using the poisson formula\n",
        "#This comes to be e^(-5)*5^10/10!=0.018132\n",
        "#From our simulation, we are getting: \n",
        "prob=heads_list.count(10)/len(heads_list)\n",
        "print(prob)"
      ],
      "execution_count": null,
      "outputs": [
        {
          "output_type": "stream",
          "name": "stdout",
          "text": [
            "0.01797\n"
          ]
        }
      ]
    }
  ]
}