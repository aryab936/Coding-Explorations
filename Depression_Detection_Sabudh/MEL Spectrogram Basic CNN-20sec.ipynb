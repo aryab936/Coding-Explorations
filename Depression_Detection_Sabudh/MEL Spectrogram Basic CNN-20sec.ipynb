{
 "cells": [
  {
   "cell_type": "code",
   "execution_count": 1,
   "metadata": {
    "executionInfo": {
     "elapsed": 2417,
     "status": "ok",
     "timestamp": 1632912358449,
     "user": {
      "displayName": "Arya Bhattacharyya",
      "photoUrl": "https://lh3.googleusercontent.com/a-/AOh14GgVN9OEj7fSzqnLfQ4tMBy-mBrZqCqv_EmY9-On=s64",
      "userId": "16695838390120700198"
     },
     "user_tz": -330
    },
    "id": "C1xL01z51ftE"
   },
   "outputs": [],
   "source": [
    "from keras.models import Sequential"
   ]
  },
  {
   "cell_type": "code",
   "execution_count": 2,
   "metadata": {
    "colab": {
     "base_uri": "https://localhost:8080/"
    },
    "executionInfo": {
     "elapsed": 7,
     "status": "ok",
     "timestamp": 1632912358451,
     "user": {
      "displayName": "Arya Bhattacharyya",
      "photoUrl": "https://lh3.googleusercontent.com/a-/AOh14GgVN9OEj7fSzqnLfQ4tMBy-mBrZqCqv_EmY9-On=s64",
      "userId": "16695838390120700198"
     },
     "user_tz": -330
    },
    "id": "402ns41vlUMp",
    "outputId": "62717654-b7f4-4bff-c405-936ca15a12e9"
   },
   "outputs": [
    {
     "name": "stdout",
     "output_type": "stream",
     "text": [
      "Drive already mounted at /content/drive; to attempt to forcibly remount, call drive.mount(\"/content/drive\", force_remount=True).\n"
     ]
    }
   ],
   "source": [
    "from google.colab import drive\n",
    "drive.mount('/content/drive')"
   ]
  },
  {
   "cell_type": "code",
   "execution_count": 3,
   "metadata": {
    "executionInfo": {
     "elapsed": 4,
     "status": "ok",
     "timestamp": 1632912358451,
     "user": {
      "displayName": "Arya Bhattacharyya",
      "photoUrl": "https://lh3.googleusercontent.com/a-/AOh14GgVN9OEj7fSzqnLfQ4tMBy-mBrZqCqv_EmY9-On=s64",
      "userId": "16695838390120700198"
     },
     "user_tz": -330
    },
    "id": "daheKvFg4GX-"
   },
   "outputs": [],
   "source": [
    "import tensorflow as tf"
   ]
  },
  {
   "cell_type": "code",
   "execution_count": 4,
   "metadata": {
    "colab": {
     "base_uri": "https://localhost:8080/"
    },
    "executionInfo": {
     "elapsed": 3394,
     "status": "ok",
     "timestamp": 1632912361841,
     "user": {
      "displayName": "Arya Bhattacharyya",
      "photoUrl": "https://lh3.googleusercontent.com/a-/AOh14GgVN9OEj7fSzqnLfQ4tMBy-mBrZqCqv_EmY9-On=s64",
      "userId": "16695838390120700198"
     },
     "user_tz": -330
    },
    "id": "SYL0pIZlo3WP",
    "outputId": "01eaf373-7f0e-4471-f276-43659ba11261"
   },
   "outputs": [
    {
     "name": "stdout",
     "output_type": "stream",
     "text": [
      "Requirement already satisfied: keras in /usr/local/lib/python3.7/dist-packages (2.6.0)\n"
     ]
    }
   ],
   "source": [
    "!pip install keras"
   ]
  },
  {
   "cell_type": "code",
   "execution_count": 5,
   "metadata": {
    "executionInfo": {
     "elapsed": 567,
     "status": "ok",
     "timestamp": 1632912362405,
     "user": {
      "displayName": "Arya Bhattacharyya",
      "photoUrl": "https://lh3.googleusercontent.com/a-/AOh14GgVN9OEj7fSzqnLfQ4tMBy-mBrZqCqv_EmY9-On=s64",
      "userId": "16695838390120700198"
     },
     "user_tz": -330
    },
    "id": "1-ZimYj14Qip"
   },
   "outputs": [],
   "source": [
    "from keras.layers.core import Dense, Activation, Dropout, Flatten\n",
    "from keras.layers.convolutional import Convolution2D, MaxPooling2D\n",
    "#from keras.optimizers import SGD, RMSprop, Adam\n",
    "from keras.utils import np_utils\n",
    "from sklearn.tree import DecisionTreeClassifier # Import Decision Tree Classifier\n",
    "from sklearn import metrics\n",
    "from sklearn.utils import shuffle\n",
    "from sklearn.model_selection import train_test_split\n",
    "import matplotlib.image as mpimg\n",
    "import matplotlib.pyplot as plt\n",
    "import numpy as np\n",
    "import os\n",
    "import cv2\n",
    "import random\n",
    "from PIL import Image\n",
    "import theano"
   ]
  },
  {
   "cell_type": "code",
   "execution_count": 6,
   "metadata": {
    "executionInfo": {
     "elapsed": 3,
     "status": "ok",
     "timestamp": 1632888574513,
     "user": {
      "displayName": "Arya Bhattacharyya",
      "photoUrl": "https://lh3.googleusercontent.com/a-/AOh14GgVN9OEj7fSzqnLfQ4tMBy-mBrZqCqv_EmY9-On=s64",
      "userId": "16695838390120700198"
     },
     "user_tz": -330
    },
    "id": "Ylh08jaQ5uSm"
   },
   "outputs": [],
   "source": [
    "CATEGORIES = [\"DEPRESSED\",\"HEALTHY\"]"
   ]
  },
  {
   "cell_type": "code",
   "execution_count": 7,
   "metadata": {
    "executionInfo": {
     "elapsed": 573476,
     "status": "ok",
     "timestamp": 1632889147986,
     "user": {
      "displayName": "Arya Bhattacharyya",
      "photoUrl": "https://lh3.googleusercontent.com/a-/AOh14GgVN9OEj7fSzqnLfQ4tMBy-mBrZqCqv_EmY9-On=s64",
      "userId": "16695838390120700198"
     },
     "user_tz": -330
    },
    "id": "_WC2L0sX54JS"
   },
   "outputs": [],
   "source": [
    "training = []\n",
    "def createTrainingData(category):  \n",
    "  class_num = CATEGORIES.index(category)\n",
    "  if class_num==0:\n",
    "    for i in range(101,141):\n",
    "      j=0\n",
    "      while True:\n",
    "        try:\n",
    "          filename=r\"/content/drive/MyDrive/Depression_Detection/Slicing_Experiment/15_sec_and_5_overlap/Spectrograms_Depressed/Mel_AI_\"+str(i)+\"_result_slice_\"+str(j)+\".png\"\n",
    "          img_array = cv2.imread(filename)\n",
    "          new_array = cv2.resize(img_array, (430, 280))\n",
    "          training.append([new_array, class_num])\n",
    "          j+=15000\n",
    "        except:\n",
    "          break\n",
    "  elif class_num==1:\n",
    "    for i in range(301,345):\n",
    "      j=0\n",
    "      while True:\n",
    "        try:\n",
    "          filename=r\"/content/drive/MyDrive/Depression_Detection/Slicing_Experiment/15_sec_and_5_overlap/Spectrograms_Healthy/Mel_AIC_\"+str(i)+\"_result_slice_\"+str(j)+\".png\"\n",
    "          img_array = cv2.imread(filename)\n",
    "          new_array = cv2.resize(img_array, (430, 280))\n",
    "          training.append([new_array, class_num])\n",
    "          j+=15000\n",
    "        except:\n",
    "          break\n",
    "  else:\n",
    "    print(\"Incorrect input\")\n",
    "createTrainingData(\"DEPRESSED\")"
   ]
  },
  {
   "cell_type": "code",
   "execution_count": 8,
   "metadata": {
    "colab": {
     "base_uri": "https://localhost:8080/"
    },
    "executionInfo": {
     "elapsed": 8,
     "status": "ok",
     "timestamp": 1632889147987,
     "user": {
      "displayName": "Arya Bhattacharyya",
      "photoUrl": "https://lh3.googleusercontent.com/a-/AOh14GgVN9OEj7fSzqnLfQ4tMBy-mBrZqCqv_EmY9-On=s64",
      "userId": "16695838390120700198"
     },
     "user_tz": -330
    },
    "id": "Fk7OCML7l4Ht",
    "outputId": "6e408157-d611-4a47-cdc3-472f8aa85f00"
   },
   "outputs": [
    {
     "data": {
      "text/plain": [
       "2866"
      ]
     },
     "execution_count": 8,
     "metadata": {},
     "output_type": "execute_result"
    }
   ],
   "source": [
    "len(training)"
   ]
  },
  {
   "cell_type": "code",
   "execution_count": 9,
   "metadata": {
    "executionInfo": {
     "elapsed": 571684,
     "status": "ok",
     "timestamp": 1632889719669,
     "user": {
      "displayName": "Arya Bhattacharyya",
      "photoUrl": "https://lh3.googleusercontent.com/a-/AOh14GgVN9OEj7fSzqnLfQ4tMBy-mBrZqCqv_EmY9-On=s64",
      "userId": "16695838390120700198"
     },
     "user_tz": -330
    },
    "id": "cqBUcSgm75Tb"
   },
   "outputs": [],
   "source": [
    "createTrainingData(\"HEALTHY\")"
   ]
  },
  {
   "cell_type": "code",
   "execution_count": 10,
   "metadata": {
    "colab": {
     "base_uri": "https://localhost:8080/"
    },
    "executionInfo": {
     "elapsed": 11,
     "status": "ok",
     "timestamp": 1632889719670,
     "user": {
      "displayName": "Arya Bhattacharyya",
      "photoUrl": "https://lh3.googleusercontent.com/a-/AOh14GgVN9OEj7fSzqnLfQ4tMBy-mBrZqCqv_EmY9-On=s64",
      "userId": "16695838390120700198"
     },
     "user_tz": -330
    },
    "id": "hfsGOsKt8ITK",
    "outputId": "144165e0-347b-430e-f607-1ee88fe4c67e"
   },
   "outputs": [
    {
     "data": {
      "text/plain": [
       "5815"
      ]
     },
     "execution_count": 10,
     "metadata": {},
     "output_type": "execute_result"
    }
   ],
   "source": [
    "len(training)"
   ]
  },
  {
   "cell_type": "code",
   "execution_count": 11,
   "metadata": {
    "executionInfo": {
     "elapsed": 3,
     "status": "ok",
     "timestamp": 1632889719670,
     "user": {
      "displayName": "Arya Bhattacharyya",
      "photoUrl": "https://lh3.googleusercontent.com/a-/AOh14GgVN9OEj7fSzqnLfQ4tMBy-mBrZqCqv_EmY9-On=s64",
      "userId": "16695838390120700198"
     },
     "user_tz": -330
    },
    "id": "nw-KgyR99Qoz"
   },
   "outputs": [],
   "source": [
    "random.shuffle(training)"
   ]
  },
  {
   "cell_type": "code",
   "execution_count": 12,
   "metadata": {
    "executionInfo": {
     "elapsed": 1345,
     "status": "ok",
     "timestamp": 1632889721012,
     "user": {
      "displayName": "Arya Bhattacharyya",
      "photoUrl": "https://lh3.googleusercontent.com/a-/AOh14GgVN9OEj7fSzqnLfQ4tMBy-mBrZqCqv_EmY9-On=s64",
      "userId": "16695838390120700198"
     },
     "user_tz": -330
    },
    "id": "U13F3Of--bLu"
   },
   "outputs": [],
   "source": [
    "X =[]\n",
    "y =[]\n",
    "for features, label in training:\n",
    "  X.append(features)\n",
    "  y.append(label)\n",
    "X = np.array(X).reshape(-1, 430,280, 3)"
   ]
  },
  {
   "cell_type": "code",
   "execution_count": null,
   "metadata": {
    "id": "hAkP11dy-rnI"
   },
   "outputs": [],
   "source": [
    "X = X.astype('float32')\n",
    "X /= 255\n",
    "from keras.utils import np_utils\n",
    "Y = np_utils.to_categorical(y, 2)\n",
    "Y=np.array(Y)\n"
   ]
  },
  {
   "cell_type": "code",
   "execution_count": null,
   "metadata": {
    "id": "NhULXH8BEUG7"
   },
   "outputs": [],
   "source": [
    "print(Y)"
   ]
  },
  {
   "cell_type": "code",
   "execution_count": null,
   "metadata": {
    "id": "9sIC6fOV-v5p"
   },
   "outputs": [],
   "source": [
    "X_train, X_test, y_train, y_test = train_test_split(X, Y, test_size = 0.2, random_state = 4)"
   ]
  },
  {
   "cell_type": "code",
   "execution_count": 6,
   "metadata": {
    "executionInfo": {
     "elapsed": 584,
     "status": "ok",
     "timestamp": 1632912367412,
     "user": {
      "displayName": "Arya Bhattacharyya",
      "photoUrl": "https://lh3.googleusercontent.com/a-/AOh14GgVN9OEj7fSzqnLfQ4tMBy-mBrZqCqv_EmY9-On=s64",
      "userId": "16695838390120700198"
     },
     "user_tz": -330
    },
    "id": "Uu-j6cpp_gN1"
   },
   "outputs": [],
   "source": [
    "class myModel(tf.keras.Model):\n",
    "  def __init__(self):\n",
    "    super().__init__()\n",
    "    self.conv1=tf.keras.layers.Conv2D(32,(3,3),padding='same',activation=tf.nn.leaky_relu,input_shape=(430,280,3))\n",
    "    self.maxpool1=tf.keras.layers.MaxPooling2D((2, 2), strides=2)\n",
    "    self.conv2=tf.keras.layers.Conv2D(32, (3,3), padding='same', activation=tf.nn.leaky_relu)\n",
    "    self.maxpool2=tf.keras.layers.MaxPooling2D((2, 2), strides=2)\n",
    "    self.dropout1=tf.keras.layers.Dropout(0.25)\n",
    "    self.flatten=tf.keras.layers.Flatten()\n",
    "    self.dense1=tf.keras.layers.Dense(128, activation=tf.nn.leaky_relu)\n",
    "    self.dense2=tf.keras.layers.Dense(1,  activation=tf.nn.sigmoid)\n",
    "  \n",
    "  def call(self,input):\n",
    "    conv1_out=self.conv1(input)\n",
    "    maxpool1_out=self.maxpool1(conv1_out)\n",
    "    conv2_out=self.conv2(maxpool1_out)\n",
    "    maxpool2_out=self.maxpool2(conv2_out)\n",
    "    dropout1_out=self.dropout1(maxpool2_out)\n",
    "    flatten_out=self.flatten(dropout1_out)\n",
    "    dense1_out=self.dense1(flatten_out)\n",
    "    dense2_out=self.dense2(dense1_out)\n",
    "    return dense2_out"
   ]
  },
  {
   "cell_type": "code",
   "execution_count": 7,
   "metadata": {
    "colab": {
     "base_uri": "https://localhost:8080/"
    },
    "executionInfo": {
     "elapsed": 6,
     "status": "ok",
     "timestamp": 1632912367413,
     "user": {
      "displayName": "Arya Bhattacharyya",
      "photoUrl": "https://lh3.googleusercontent.com/a-/AOh14GgVN9OEj7fSzqnLfQ4tMBy-mBrZqCqv_EmY9-On=s64",
      "userId": "16695838390120700198"
     },
     "user_tz": -330
    },
    "id": "1pS1dhYgGfIm",
    "outputId": "1acbed56-7d9c-48d6-f36c-32df8c5281be"
   },
   "outputs": [
    {
     "name": "stdout",
     "output_type": "stream",
     "text": [
      "Total 5815 data\n"
     ]
    }
   ],
   "source": [
    "import sys,os,random\n",
    "train_file=r\"/content/drive/MyDrive/Depression_Detection/Slicing_Experiment/15_sec_and_5_overlap/filenames_train.txt\"\n",
    "all_data=[]\n",
    "f=open(train_file)\n",
    "line = f.readline()\n",
    "while line:\n",
    "  info = line.strip(\"\\n\").split(\",\")\n",
    "  filename = info[0]\n",
    "  label = int(info[-1])\n",
    "  all_data.append([filename,label])\n",
    "  # print(filename,label)\n",
    "  line = f.readline()\n",
    "  # break\n",
    "\n",
    "N = len(all_data)\n",
    "print(\"Total %d data\"%N)"
   ]
  },
  {
   "cell_type": "code",
   "execution_count": 8,
   "metadata": {
    "colab": {
     "base_uri": "https://localhost:8080/"
    },
    "executionInfo": {
     "elapsed": 5,
     "status": "ok",
     "timestamp": 1632912369341,
     "user": {
      "displayName": "Arya Bhattacharyya",
      "photoUrl": "https://lh3.googleusercontent.com/a-/AOh14GgVN9OEj7fSzqnLfQ4tMBy-mBrZqCqv_EmY9-On=s64",
      "userId": "16695838390120700198"
     },
     "user_tz": -330
    },
    "id": "aN3QLNSCNYoy",
    "outputId": "dbae7e79-8f8e-4755-b19e-64deca5bb611"
   },
   "outputs": [
    {
     "name": "stdout",
     "output_type": "stream",
     "text": [
      "4653 Train data 1162 Test data\n"
     ]
    }
   ],
   "source": [
    "split = 0.2\n",
    "n_train = 1-int(N*0.2)\n",
    "random.shuffle(all_data)\n",
    "train_data = all_data[:n_train]\n",
    "test_data = all_data[n_train:]\n",
    "print(\"%d Train data %d Test data\"%(len(train_data),len(test_data)))"
   ]
  },
  {
   "cell_type": "code",
   "execution_count": 9,
   "metadata": {
    "executionInfo": {
     "elapsed": 2,
     "status": "ok",
     "timestamp": 1632912369341,
     "user": {
      "displayName": "Arya Bhattacharyya",
      "photoUrl": "https://lh3.googleusercontent.com/a-/AOh14GgVN9OEj7fSzqnLfQ4tMBy-mBrZqCqv_EmY9-On=s64",
      "userId": "16695838390120700198"
     },
     "user_tz": -330
    },
    "id": "wc9MTPbbNnz6"
   },
   "outputs": [],
   "source": [
    "def generate_batch(data,batch_size):\n",
    "  total = len(data)\n",
    "  start = 0\n",
    "  while start < total:\n",
    "    end = min(total,start + batch_size)\n",
    "    batch_data = data[start:end]\n",
    "    batch_x = []\n",
    "    batch_y = []\n",
    "    for filename,label in batch_data:\n",
    "      try:\n",
    "        img_array = cv2.imread(filename)\n",
    "        new_array = cv2.resize(img_array, (430, 280))\n",
    "        batch_x.append(new_array)\n",
    "        one_hot = [0.0,0.0]\n",
    "        one_hot[label] = 1.0\n",
    "        batch_y.append(one_hot)\n",
    "      except:\n",
    "        pass\n",
    "    # print(feat.shape,one_hot)\n",
    "    batch_x = np.array(batch_x).reshape(-1, 430,280, 3)\n",
    "    batch_x = batch_x.astype('float32')\n",
    "    batch_x/= 255\n",
    "    yield batch_x,np.array(batch_y),start,end\n",
    "    start = end\n",
    "  \n",
    "\n",
    "batch=generate_batch(train_data,32)"
   ]
  },
  {
   "cell_type": "code",
   "execution_count": 10,
   "metadata": {
    "executionInfo": {
     "elapsed": 383,
     "status": "ok",
     "timestamp": 1632912370280,
     "user": {
      "displayName": "Arya Bhattacharyya",
      "photoUrl": "https://lh3.googleusercontent.com/a-/AOh14GgVN9OEj7fSzqnLfQ4tMBy-mBrZqCqv_EmY9-On=s64",
      "userId": "16695838390120700198"
     },
     "user_tz": -330
    },
    "id": "j-RY7MPChnjM"
   },
   "outputs": [],
   "source": [
    "p=next(batch)"
   ]
  },
  {
   "cell_type": "code",
   "execution_count": 11,
   "metadata": {
    "colab": {
     "base_uri": "https://localhost:8080/"
    },
    "executionInfo": {
     "elapsed": 4,
     "status": "ok",
     "timestamp": 1632912370281,
     "user": {
      "displayName": "Arya Bhattacharyya",
      "photoUrl": "https://lh3.googleusercontent.com/a-/AOh14GgVN9OEj7fSzqnLfQ4tMBy-mBrZqCqv_EmY9-On=s64",
      "userId": "16695838390120700198"
     },
     "user_tz": -330
    },
    "id": "JXG2_Lt5hrbc",
    "outputId": "c2e62055-dfd7-4cbe-c507-c0990cdaf3da"
   },
   "outputs": [
    {
     "data": {
      "text/plain": [
       "(32, 430, 280, 3)"
      ]
     },
     "execution_count": 11,
     "metadata": {},
     "output_type": "execute_result"
    }
   ],
   "source": [
    "p[0].shape"
   ]
  },
  {
   "cell_type": "code",
   "execution_count": 12,
   "metadata": {
    "executionInfo": {
     "elapsed": 492,
     "status": "ok",
     "timestamp": 1632912372225,
     "user": {
      "displayName": "Arya Bhattacharyya",
      "photoUrl": "https://lh3.googleusercontent.com/a-/AOh14GgVN9OEj7fSzqnLfQ4tMBy-mBrZqCqv_EmY9-On=s64",
      "userId": "16695838390120700198"
     },
     "user_tz": -330
    },
    "id": "2yvUmZkAPPVA"
   },
   "outputs": [],
   "source": [
    "model_2D = myModel()\n",
    "initial_learning_rate = 0.0000001\n",
    "lr_schedule = tf.keras.optimizers.schedules.ExponentialDecay(\n",
    "    initial_learning_rate,\n",
    "    decay_steps=18620,\n",
    "    decay_rate=0.5,\n",
    "    staircase=True)\n",
    "optimizer = tf.keras.optimizers.Adam(learning_rate=lr_schedule)\n"
   ]
  },
  {
   "cell_type": "code",
   "execution_count": null,
   "metadata": {
    "colab": {
     "base_uri": "https://localhost:8080/"
    },
    "id": "zSnUCw4EOGLp",
    "outputId": "c4c0cda2-3c43-4b1f-e458-cb332b6621cc"
   },
   "outputs": [
    {
     "name": "stdout",
     "output_type": "stream",
     "text": [
      "931 total batches\n",
      "Total loss in epoch 0 is 7137.308223978188 Accuracy is 0.2577873254564984\n",
      "Total loss in epoch 1 is 7033.391239462199 Accuracy is 0.3104189044038668\n",
      "Total loss in epoch 2 is 6935.535790562902 Accuracy is 0.3109559613319012\n",
      "Total loss in epoch 3 is 6826.848167297698 Accuracy is 0.31954887218045114\n",
      "Total loss in epoch 4 is 6709.338310621953 Accuracy is 0.3276047261009667\n",
      "Total loss in epoch 5 is 6605.788117336313 Accuracy is 0.3281417830290011\n",
      "Total loss in epoch 6 is 6486.537478348953 Accuracy is 0.3335123523093448\n",
      "Total loss in epoch 7 is 6375.987409379712 Accuracy is 0.33404940923737914\n",
      "Total loss in epoch 8 is 6255.3120615432035 Accuracy is 0.33297529538131043\n",
      "Total loss in epoch 9 is 6131.150259783432 Accuracy is 0.3351235230934479\n",
      "Total loss in epoch 10 is 6020.069722154993 Accuracy is 0.3372717508055854\n",
      "Total loss in epoch 11 is 5921.672794336122 Accuracy is 0.3372717508055854\n",
      "Total loss in epoch 12 is 5833.916387581491 Accuracy is 0.3383458646616541\n",
      "Total loss in epoch 13 is 5748.575683075741 Accuracy is 0.33780880773361976\n",
      "Total loss in epoch 14 is 5675.550042867856 Accuracy is 0.33780880773361976\n",
      "Total loss in epoch 15 is 5603.17968914936 Accuracy is 0.3399570354457572\n",
      "Total loss in epoch 16 is 5532.603028695347 Accuracy is 0.3426423200859291\n",
      "Total loss in epoch 17 is 5471.587614059605 Accuracy is 0.3426423200859291\n",
      "Total loss in epoch 18 is 5412.893500077809 Accuracy is 0.34210526315789475\n",
      "Total loss in epoch 19 is 5356.6642816495905 Accuracy is 0.3431793770139635\n",
      "Total loss in epoch 20 is 5311.207341420117 Accuracy is 0.3447905477980666\n",
      "Total loss in epoch 21 is 5285.06822218881 Accuracy is 0.34532760472610097\n",
      "Total loss in epoch 22 is 5257.640660634183 Accuracy is 0.34532760472610097\n",
      "Total loss in epoch 23 is 5231.395055623797 Accuracy is 0.3464017185821697\n",
      "Total loss in epoch 24 is 5208.049940819341 Accuracy is 0.34801288936627284\n",
      "Total loss in epoch 25 is 5185.214595379661 Accuracy is 0.34801288936627284\n",
      "Total loss in epoch 26 is 5151.569532293235 Accuracy is 0.3485499462943072\n",
      "Total loss in epoch 27 is 5124.057442969052 Accuracy is 0.34908700322234154\n",
      "Total loss in epoch 28 is 5097.454404075951 Accuracy is 0.3506981740064447\n",
      "Total loss in epoch 29 is 5071.718054794859 Accuracy is 0.3501611170784103\n",
      "Total loss in epoch 30 is 5050.447640356513 Accuracy is 0.3506981740064447\n",
      "Total loss in epoch 31 is 5025.973309409173 Accuracy is 0.35123523093447906\n",
      "Total loss in epoch 32 is 5005.959411105875 Accuracy is 0.3533834586466165\n",
      "Total loss in epoch 33 is 4987.140311458199 Accuracy is 0.3544575725026853\n",
      "Total loss in epoch 34 is 4968.678075271029 Accuracy is 0.35499462943071963\n",
      "Total loss in epoch 35 is 4944.864316616517 Accuracy is 0.35660580021482274\n",
      "Total loss in epoch 36 is 4924.555093019742 Accuracy is 0.35875402792696026\n",
      "Total loss in epoch 37 is 4907.05639994822 Accuracy is 0.35875402792696026\n",
      "Total loss in epoch 38 is 4881.903854736187 Accuracy is 0.3592910848549946\n",
      "Total loss in epoch 39 is 4858.801026071028 Accuracy is 0.36251342642320084\n",
      "Total loss in epoch 40 is 4839.770751314394 Accuracy is 0.36251342642320084\n",
      "Total loss in epoch 41 is 4830.912369258994 Accuracy is 0.36305048335123524\n",
      "Total loss in epoch 42 is 4822.814875480381 Accuracy is 0.36143931256713213\n",
      "Total loss in epoch 43 is 4814.823350451329 Accuracy is 0.3609022556390977\n",
      "Total loss in epoch 44 is 4806.906422370388 Accuracy is 0.36143931256713213\n",
      "Total loss in epoch 45 is 4799.054985224841 Accuracy is 0.3609022556390977\n",
      "Total loss in epoch 46 is 4791.268969961632 Accuracy is 0.3609022556390977\n",
      "Total loss in epoch 47 is 4783.545758225089 Accuracy is 0.3619763694951665\n",
      "Total loss in epoch 48 is 4775.884293698546 Accuracy is 0.36251342642320084\n",
      "Total loss in epoch 49 is 4768.283230103333 Accuracy is 0.36251342642320084\n",
      "Total loss in epoch 50 is 4760.741668951912 Accuracy is 0.36305048335123524\n",
      "Total loss in epoch 51 is 4753.258419013071 Accuracy is 0.3635875402792696\n",
      "Total loss in epoch 52 is 4745.829969732875 Accuracy is 0.364124597207304\n",
      "Total loss in epoch 53 is 4738.456570215188 Accuracy is 0.3657357679914071\n",
      "Total loss in epoch 54 is 4731.137541625416 Accuracy is 0.3668098818474758\n",
      "Total loss in epoch 55 is 4723.8731346615195 Accuracy is 0.3668098818474758\n",
      "Total loss in epoch 56 is 4716.662630924621 Accuracy is 0.36627282491944146\n",
      "Total loss in epoch 57 is 4709.505990966054 Accuracy is 0.3673469387755102\n",
      "Total loss in epoch 58 is 4702.4003199133485 Accuracy is 0.3668098818474758\n",
      "Total loss in epoch 59 is 4695.345004870038 Accuracy is 0.3668098818474758\n",
      "Total loss in epoch 60 is 4688.536473709099 Accuracy is 0.36627282491944146\n",
      "Total loss in epoch 61 is 4684.886595311035 Accuracy is 0.3673469387755102\n",
      "Total loss in epoch 62 is 4681.413333772468 Accuracy is 0.3673469387755102\n",
      "Total loss in epoch 63 is 4677.9739463464275 Accuracy is 0.3673469387755102\n",
      "Total loss in epoch 64 is 4674.549477968728 Accuracy is 0.3673469387755102\n",
      "Total loss in epoch 65 is 4671.136969870625 Accuracy is 0.3673469387755102\n",
      "Total loss in epoch 66 is 4667.735632565526 Accuracy is 0.3678839957035446\n",
      "Total loss in epoch 67 is 4664.345485418964 Accuracy is 0.3684210526315789\n",
      "Total loss in epoch 68 is 4660.966226232777 Accuracy is 0.3684210526315789\n",
      "Total loss in epoch 69 is 4657.598008833615 Accuracy is 0.3694951664876477\n",
      "Total loss in epoch 70 is 4654.240452956767 Accuracy is 0.3694951664876477\n",
      "Total loss in epoch 71 is 4650.89362764285 Accuracy is 0.3694951664876477\n",
      "Total loss in epoch 72 is 4647.557068004923 Accuracy is 0.37056928034371645\n",
      "Total loss in epoch 73 is 4644.230728804022 Accuracy is 0.3711063372717508\n",
      "Total loss in epoch 74 is 4640.914599356937 Accuracy is 0.3711063372717508\n",
      "Total loss in epoch 75 is 4637.608503784626 Accuracy is 0.3716433941997852\n",
      "Total loss in epoch 76 is 4634.3126644441145 Accuracy is 0.37218045112781956\n",
      "Total loss in epoch 77 is 4631.026995839713 Accuracy is 0.37218045112781956\n",
      "Total loss in epoch 78 is 4627.751174488936 Accuracy is 0.37218045112781956\n",
      "Total loss in epoch 79 is 4624.484895290095 Accuracy is 0.3727175080558539\n",
      "Total loss in epoch 80 is 4621.146983176402 Accuracy is 0.3727175080558539\n",
      "Total loss in epoch 81 is 4619.566990038135 Accuracy is 0.3727175080558539\n",
      "Total loss in epoch 82 is 4618.013668224183 Accuracy is 0.3727175080558539\n",
      "Total loss in epoch 83 is 4616.470765203669 Accuracy is 0.3727175080558539\n",
      "Total loss in epoch 84 is 4614.932914284776 Accuracy is 0.3727175080558539\n"
     ]
    }
   ],
   "source": [
    "epochs = 250\n",
    "batch_size = 5\n",
    "\n",
    "N = len(train_data)\n",
    "n_batches = int(np.ceil(N/batch_size))\n",
    "print(\"%d total batches\"%n_batches)\n",
    "losses={}\n",
    "accuracies={}\n",
    "\n",
    "for e in range(epochs):\n",
    "  batch = generate_batch(train_data,batch_size)\n",
    "  average_accuracy=0\n",
    "  avg_loss = 0\n",
    "  for b in range(n_batches):\n",
    "    # get data for a batch\n",
    "    try:\n",
    "      batch_x,batch_y,s,end = next(batch)\n",
    "      # print(\"Batch IDX %d -  start %d end %d\"%(b,s,e))\n",
    "      # backprop\n",
    "      with tf.GradientTape() as tape:\n",
    "        output = model_2D(batch_x)\n",
    "        loss = tf.reduce_mean(tf.keras.losses.binary_crossentropy(output,batch_y))\n",
    "        avg_loss += loss\n",
    "        weights = model_2D.trainable_variables\n",
    "        grad = tape.gradient(loss,weights)\n",
    "        optimizer.apply_gradients(zip(grad,weights))\n",
    "      #to compute accuracy\n",
    "        pl = tf.argmax(output)\n",
    "        tl = tf.argmax(batch_y)\n",
    "        accuracy=tf.reduce_mean(tf.cast(tf.equal(pl,tl),tf.float32))\n",
    "        average_accuracy+=accuracy.numpy()\n",
    "    except:\n",
    "      break\n",
    "  average_accuracy/=n_batches\n",
    "  print(\"Total loss in epoch \"+str(e)+ \" is \"+ str(avg_loss.numpy())+\" Accuracy is \" + str(average_accuracy))\n",
    "  accuracies[e+1]= average_accuracy\n",
    "  losses[e+1]=avg_loss.numpy()\n",
    "epochs=[]\n",
    "for item in losses.keys():\n",
    "  epochs.append(item)\n",
    "import pandas as pd\n",
    "loss_values=[]\n",
    "for i in range(len(epochs)):\n",
    "  loss_values.append(losses[i+1])\n",
    "accuracy_values=[]\n",
    "for i in range(len(epochs)):\n",
    "  accuracy_values.append(accuracies[i+1])\n",
    "dictionary={'Epoch Number': epochs, 'Accuracy': accuracy_values, 'Loss': loss_values}\n",
    "data=pd.DataFrame.from_dict(dictionary)\n",
    "import matplotlib.pyplot as plt\n",
    "%matplotlib inline\n",
    "data.plot(x='Epoch Number', y='Loss', kind='line', ylabel='Loss')\n",
    "data.plot(x='Epoch Number', y='Accuracy', kind='line', ylabel='Loss')"
   ]
  },
  {
   "cell_type": "code",
   "execution_count": null,
   "metadata": {
    "id": "1fQTeQC8slXQ"
   },
   "outputs": [],
   "source": [
    "model2D.save(r\"/content/drive/MyDrive/Depression_Detection/Slicing_Experiment/15_sec_and_5_overlap/CNN20Model\")"
   ]
  },
  {
   "cell_type": "code",
   "execution_count": null,
   "metadata": {
    "id": "O1sFmFLO_Zz7"
   },
   "outputs": [],
   "source": [
    "#Exploratory Model\n",
    "'''\n",
    "model=tf.keras.Sequential([\n",
    "        tf.keras.layers.Conv2D(32,(3,3),padding='same',activation=tf.nn.leaky_relu,input_shape=(430,280,3)),\n",
    "        tf.keras.layers.MaxPooling2D((2, 2), strides=2),\n",
    "        tf.keras.layers.Conv2D(32, (3,3), padding='same', activation=tf.nn.leaky_relu),\n",
    "        tf.keras.layers.MaxPooling2D((2, 2), strides=2),\n",
    "        tf.keras.layers.Dropout(0.25),\n",
    "        tf.keras.layers.Flatten(),\n",
    "        tf.keras.layers.Dense(128, activation=tf.nn.leaky_relu),\n",
    "        tf.keras.layers.Dense(2,  activation=tf.nn.sigmoid)\n",
    "])\n",
    "'''"
   ]
  },
  {
   "cell_type": "code",
   "execution_count": null,
   "metadata": {
    "id": "qZjO7Og0cLoK"
   },
   "outputs": [],
   "source": [
    "#Resnet\n",
    "\"\"\"\n",
    "Resnet code\n",
    "\"\"\""
   ]
  },
  {
   "cell_type": "code",
   "execution_count": null,
   "metadata": {
    "id": "YFsjg0QbCBBH"
   },
   "outputs": [],
   "source": [
    "\n",
    "model.compile(optimizer='adam',loss='binary_crossentropy',metrics=['accuracy'])\n"
   ]
  },
  {
   "cell_type": "code",
   "execution_count": null,
   "metadata": {
    "id": "xq6OIVliFfeZ"
   },
   "outputs": [],
   "source": [
    "history=model.fit(X_train, y_train, batch_size =5, epochs =50, verbose = 1, validation_data = (X_test, y_test))"
   ]
  },
  {
   "cell_type": "code",
   "execution_count": null,
   "metadata": {
    "id": "seaWAdE0Dg-s"
   },
   "outputs": [],
   "source": [
    "# summarize history for accuracy\n",
    "plt.plot(history.history['accuracy'])\n",
    "plt.plot(history.history['val_accuracy'])\n",
    "plt.title('model accuracy')\n",
    "plt.ylabel('accuracy')\n",
    "plt.xlabel('epoch')\n",
    "plt.legend(['train', 'test'], loc='upper left')\n",
    "plt.show()\n",
    "# summarize history for loss\n",
    "plt.plot(history.history['loss'])\n",
    "plt.plot(history.history['val_loss'])\n",
    "plt.title('model loss')\n",
    "plt.ylabel('loss')\n",
    "plt.xlabel('epoch')\n",
    "plt.legend(['train', 'test'], loc='upper left')\n",
    "plt.show()"
   ]
  }
 ],
 "metadata": {
  "accelerator": "GPU",
  "colab": {
   "collapsed_sections": [],
   "name": "MEL Spectrogram Basic CNN-20sec.ipynb",
   "provenance": [
    {
     "file_id": "1MYBC0TWt2de6jbzpF8tO-NpenMD--mwB",
     "timestamp": 1632885766289
    }
   ]
  },
  "kernelspec": {
   "display_name": "Python 3 (ipykernel)",
   "language": "python",
   "name": "python3"
  },
  "language_info": {
   "codemirror_mode": {
    "name": "ipython",
    "version": 3
   },
   "file_extension": ".py",
   "mimetype": "text/x-python",
   "name": "python",
   "nbconvert_exporter": "python",
   "pygments_lexer": "ipython3",
   "version": "3.9.7"
  }
 },
 "nbformat": 4,
 "nbformat_minor": 1
}
